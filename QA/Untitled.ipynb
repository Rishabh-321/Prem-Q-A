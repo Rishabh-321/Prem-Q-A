{
 "cells": [
  {
   "cell_type": "code",
   "execution_count": 1,
   "id": "c971e7e4",
   "metadata": {},
   "outputs": [
    {
     "ename": "ModuleNotFoundError",
     "evalue": "No module named 'cv2'",
     "output_type": "error",
     "traceback": [
      "\u001b[1;31m---------------------------------------------------------------------------\u001b[0m",
      "\u001b[1;31mModuleNotFoundError\u001b[0m                       Traceback (most recent call last)",
      "\u001b[1;32mc:\\Users\\DELL\\Desktop\\QA\\Untitled.ipynb Cell 1\u001b[0m line \u001b[0;36m2\n\u001b[0;32m      <a href='vscode-notebook-cell:/c%3A/Users/DELL/Desktop/QA/Untitled.ipynb#W0sZmlsZQ%3D%3D?line=0'>1</a>\u001b[0m \u001b[39mimport\u001b[39;00m \u001b[39mos\u001b[39;00m\n\u001b[1;32m----> <a href='vscode-notebook-cell:/c%3A/Users/DELL/Desktop/QA/Untitled.ipynb#W0sZmlsZQ%3D%3D?line=1'>2</a>\u001b[0m \u001b[39mimport\u001b[39;00m \u001b[39mcv2\u001b[39;00m\n\u001b[0;32m      <a href='vscode-notebook-cell:/c%3A/Users/DELL/Desktop/QA/Untitled.ipynb#W0sZmlsZQ%3D%3D?line=2'>3</a>\u001b[0m \u001b[39mimport\u001b[39;00m \u001b[39mrandom\u001b[39;00m\n\u001b[0;32m      <a href='vscode-notebook-cell:/c%3A/Users/DELL/Desktop/QA/Untitled.ipynb#W0sZmlsZQ%3D%3D?line=3'>4</a>\u001b[0m \u001b[39mimport\u001b[39;00m \u001b[39mpandas\u001b[39;00m \u001b[39mas\u001b[39;00m \u001b[39mpd\u001b[39;00m\n",
      "\u001b[1;31mModuleNotFoundError\u001b[0m: No module named 'cv2'"
     ]
    }
   ],
   "source": [
    "import os\n",
    "import cv2\n",
    "import random\n",
    "import pandas as pd\n",
    "\n",
    "def display_image(image_path):\n",
    "    img = cv2.imread(image_path)\n",
    "    cv2.imshow('Image', img)\n",
    "    cv2.waitKey(0)\n",
    "    cv2.destroyAllWindows()\n",
    "\n",
    "def get_user_input():\n",
    "    while True:\n",
    "        user_input = input(\"Enter your answer (a/b/c/d): \").strip().lower()\n",
    "        if user_input in ('a', 'b', 'c', 'd'):\n",
    "            return user_input\n",
    "        else:\n",
    "            print(\"Invalid input. Please enter a valid option (a/b/c/d).\")\n",
    "\n",
    "# List of options (a, b, c, d)\n",
    "options = ['a', 'b', 'c', 'd']\n",
    "\n",
    "# Path to the \"Q\" and \"A\" folders\n",
    "q_folder = 'Q'\n",
    "a_folder = 'A'\n",
    "\n",
    "# Get a list of question images\n",
    "question_images = [os.path.join(q_folder, image) for image in os.listdir(q_folder) if image.endswith(('.jpg', '.png'))]\n",
    "\n",
    "# Dictionary to store user answers\n",
    "for question_image in question_images:\n",
    "    display_image(question_image)\n",
    "    user_answer = get_user_input()\n",
    "    \n",
    "    print(f\"Your answer: {user_answer}\\n\")\n",
    "    \n",
    "    # Store user answer in the dictionary\n",
    "    user_answers[question_image] = (user_answer,random_answer_image)\n",
    "\n",
    "# Display the correct answers\n",
    "print(\"\\nCorrect Answers:\")\n",
    "for question_image, user_answer in user_answers.items():\n",
    "    print(f\"Question: {question_image}, Your Answer: {user_answer}\")\n",
    "#display answer\n",
    "    csv='answer.csv'\n",
    "    if os.path.exists(csv):\n",
    "        df = pd.read_csv(csv)\n",
    "        print(\"\\n Content of the csv file:\")\n",
    "    print(df)\n",
    "else:\n",
    "            print(\"file not avaliable\")\n",
    "    \n",
    "# End of the program\n",
    "print(\"All questions answered!\")\n",
    "\n"
   ]
  },
  {
   "cell_type": "code",
   "execution_count": null,
   "id": "31452aa1",
   "metadata": {},
   "outputs": [],
   "source": []
  }
 ],
 "metadata": {
  "kernelspec": {
   "display_name": "Python 3 (ipykernel)",
   "language": "python",
   "name": "python3"
  },
  "language_info": {
   "codemirror_mode": {
    "name": "ipython",
    "version": 3
   },
   "file_extension": ".py",
   "mimetype": "text/x-python",
   "name": "python",
   "nbconvert_exporter": "python",
   "pygments_lexer": "ipython3",
   "version": "3.11.5"
  }
 },
 "nbformat": 4,
 "nbformat_minor": 5
}
